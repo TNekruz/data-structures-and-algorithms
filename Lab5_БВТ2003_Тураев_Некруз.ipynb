{
 "cells": [
  {
   "cell_type": "markdown",
   "metadata": {
    "id": "WPvB9TcMmKA6"
   },
   "source": [
    "# Лабораторная работа №5\n",
    "# Рекурсия. Фракталы."
   ]
  },
  {
   "cell_type": "markdown",
   "metadata": {
    "id": "96Gi_LEvmSVH"
   },
   "source": [
    "## Выполнил студент группы БВТ2003 Тураев Некруз\n",
    "***"
   ]
  },
  {
   "cell_type": "markdown",
   "metadata": {
    "id": "4clYOyb0mbEv"
   },
   "source": [
    "### Задание:\n",
    "Реализовать генерацию заданного типа фрактала с применением рекурсивных функций.\n",
    "\n",
    "\n",
    "Добавить возможность задания глубины фрактала. \n",
    "\n",
    "\n",
    "Оценить глубину рекурсии. \n",
    "\n",
    "\n",
    "Построить таблицу зависимости времени построения от глубины фрактала."
   ]
  },
  {
   "cell_type": "markdown",
   "metadata": {
    "id": "wDXHbUmMmhRL"
   },
   "source": [
    "### Список фракталов:\n",
    "\n",
    "Кривая Коха\n",
    "| Кривая Гильберта\n",
    "| Кривая Серпинского\n",
    "| Салфетка Серпинского\n",
    "| Ковер Серпинского\n",
    "| Дерево Пифагора "
   ]
  },
  {
   "cell_type": "markdown",
   "metadata": {
    "id": "Wggfn8l7nG72"
   },
   "source": [
    "### Выполнение:"
   ]
  },
  {
   "cell_type": "code",
   "execution_count": 3,
   "metadata": {},
   "outputs": [],
   "source": [
    "import turtle\n",
    "import datetime\n",
    "import math"
   ]
  },
  {
   "cell_type": "code",
   "execution_count": 4,
   "metadata": {},
   "outputs": [],
   "source": [
    "import turtle\n",
    "import datetime\n",
    "import math\n",
    "\n",
    "def createFractal(func, mx_N, size=300):\n",
    "    for i in range(mx_N + 1):\n",
    "        turtle.reset()\n",
    "        turtle.speed('fastest')\n",
    "        start = datetime.datetime.now()\n",
    "        func(i, size)\n",
    "        finishT = (datetime.datetime.now() - start).total_seconds()\n",
    "        print(f'Глубина: {i} - {finishT}s')\n",
    "    turtle.done()"
   ]
  },
  {
   "cell_type": "markdown",
   "metadata": {},
   "source": [
    "### Кривая Коха"
   ]
  },
  {
   "cell_type": "code",
   "execution_count": 5,
   "metadata": {
    "id": "681a95mZnOSa",
    "scrolled": true
   },
   "outputs": [
    {
     "name": "stdout",
     "output_type": "stream",
     "text": [
      "Глубина: 0 - 0.015836s\n",
      "Глубина: 1 - 0.107033s\n",
      "Глубина: 2 - 0.502786s\n",
      "Глубина: 3 - 2.057221s\n",
      "Глубина: 4 - 8.133159s\n"
     ]
    }
   ],
   "source": [
    "def koha(n,size):\n",
    "    if n == 0:\n",
    "        return turtle.forward(size)\n",
    "    else:\n",
    "        koha(n-1,size/3)\n",
    "        turtle.left(60)\n",
    "        koha(n-1,size/3)\n",
    "        turtle.right(120)\n",
    "        koha(n-1,size/3)\n",
    "        turtle.left(60)\n",
    "        koha(n-1,size/3)\n",
    "#koha(2,300)\n",
    "createFractal(koha, 4)\n",
    "#turtle.done()"
   ]
  },
  {
   "cell_type": "markdown",
   "metadata": {},
   "source": [
    "### Кривая Гильберта"
   ]
  },
  {
   "cell_type": "code",
   "execution_count": 6,
   "metadata": {},
   "outputs": [
    {
     "ename": "SyntaxError",
     "evalue": "invalid syntax (Temp/ipykernel_1480/1515041601.py, line 25)",
     "output_type": "error",
     "traceback": [
      "\u001b[1;36m  File \u001b[1;32m\"C:\\Users\\Lenovo\\AppData\\Local\\Temp/ipykernel_1480/1515041601.py\"\u001b[1;36m, line \u001b[1;32m25\u001b[0m\n\u001b[1;33m    self.state = axiom|\u001b[0m\n\u001b[1;37m                       ^\u001b[0m\n\u001b[1;31mSyntaxError\u001b[0m\u001b[1;31m:\u001b[0m invalid syntax\n"
     ]
    }
   ],
   "source": [
    "from turtle import *\n",
    "from math import *\n",
    "import datetime\n",
    "import turtle\n",
    "\n",
    "t = turtle.Turtle()\n",
    "t.ht()          # скрываем черепашку\n",
    "\n",
    "class LSystem2D:\n",
    "    def __init__(self, t, axiom, width, length, angle):\n",
    "        self.axiom = axiom      # инициатор\n",
    "        self.state = axiom      # строка с набором команд для фрактала (вначале это инициатор)\n",
    "        self.width = width      # толщина линии рисования\n",
    "        self.length = length    # длина одного линейного сегмента кривой\n",
    "        self.angle = angle      # фиксированный угол поворота\n",
    "        self.t = t              # сама черепашка\n",
    "        self.rules = {}  # словарь для хранения правил формирования кривых\n",
    "        self.t.pensize(self.width)\n",
    "\n",
    "    def add_rules(self, *rules):\n",
    "        for key, value in rules:\n",
    "            self.rules[key] = value\n",
    "\n",
    "    def generate_path(self, n_iter):\n",
    "        self.state = axiom\n",
    "        for n in range(n_iter):\n",
    "            for key, value in self.rules.items():\n",
    "                self.state = self.state.replace(key, value.lower())\n",
    "\n",
    "            self.state = self.state.upper()\n",
    "\n",
    "    def set_turtle(self, my_tuple):\n",
    "        self.t.up()\n",
    "        self.t.goto(my_tuple[0], my_tuple[1])\n",
    "        self.t.seth(my_tuple[2])\n",
    "        self.t.down()\n",
    "\n",
    "    def draw_turtle(self, start_pos, start_angle):\n",
    "         # ***************\n",
    "        turtle.tracer(1, 0)     # форсажный режим для черепашки\n",
    "        \n",
    "        self.t.up()                 # черепашка воспаряет над поверхностью (чтобы не было следа)\n",
    "        self.t.ht() \n",
    "        self.t.setpos(start_pos)    # начальная стартовая позиция\n",
    "        self.t.seth(start_angle)    # начальный угол поворота\n",
    "        self.t.down()               # черепашка опускается на \"грешную землю\"\n",
    "        turtle_stack = []\n",
    "        # ***************\n",
    "        for move in self.state:\n",
    "            if move == 'F':\n",
    "                self.t.forward(self.length)\n",
    "            elif move == 'S':\n",
    "                self.t.up()\n",
    "                self.t.forward(self.length)\n",
    "                self.t.down()\n",
    "            elif move == '+':\n",
    "                self.t.left(self.angle)\n",
    "            elif move == '-':\n",
    "                self.t.right(self.angle)\n",
    "            elif move == \"[\":\n",
    "                turtle_stack.append((self.t.xcor(), self.t.ycor(), self.t.heading(), self.t.pensize()))\n",
    "            elif move == \"]\":\n",
    "                xcor, ycor, head, w = turtle_stack.pop()\n",
    "                self.set_turtle((xcor, ycor, head))\n",
    "                self.width = w\n",
    "                self.t.pensize(self.width)\n",
    "    def dr(self, start_pos, start_angle, iter):\n",
    "        for i in range(iter):\n",
    "            self.t.reset()\n",
    "            #self.t.ht()\n",
    "            start = datetime.datetime.now()\n",
    "            l_sys.generate_path(i)\n",
    "            self.draw_turtle(start_pos, start_angle)\n",
    "            finishT = (datetime.datetime.now() - start).total_seconds()\n",
    "            print(f'Глубина: {i} - {finishT}s')\n",
    "        \n",
    "\n",
    "\n",
    "        # turtle.done()        # чтобы окно не закрывалось после отрисовки"
   ]
  },
  {
   "cell_type": "markdown",
   "metadata": {},
   "source": [
    "### Кривая Гильберта"
   ]
  },
  {
   "cell_type": "code",
   "execution_count": 2,
   "metadata": {},
   "outputs": [
    {
     "name": "stdout",
     "output_type": "stream",
     "text": [
      "Глубина: 0 - 0.00308s\n",
      "Глубина: 1 - 0.019726s\n",
      "Глубина: 2 - 0.042677s\n",
      "Глубина: 3 - 0.177029s\n",
      "Глубина: 4 - 0.870056s\n",
      "Глубина: 5 - 3.614596s\n"
     ]
    }
   ],
   "source": [
    "# для кривой Гильберта\n",
    "# t = turtle.Turtle()\n",
    "#t.ht()          # скрываем черепашку\n",
    "\n",
    "pen_width = 2   # толщина линии рисования (в пикселах)\n",
    "f_len = 10      # длина одного сегмента прямой (в пикселах)\n",
    "angle = 90      # фиксированный угол поворота (в градусах)\n",
    "axiom = \"L\"     # для кривой Гильберта\n",
    "iterations = 6  # TOP: 9\n",
    "\n",
    "\n",
    "l_sys = LSystem2D(t, axiom, pen_width, f_len, angle)\n",
    "l_sys.add_rules((\"L\",\"+RF-LFL-FR+\"), (\"R\",\"-LF+RFR+FL-\")) # для кривой Гильберта\n",
    "l_sys.dr((0, 0), 0, iterations)"
   ]
  },
  {
   "cell_type": "markdown",
   "metadata": {},
   "source": [
    "### Кривая Серпинского"
   ]
  },
  {
   "cell_type": "code",
   "execution_count": 3,
   "metadata": {},
   "outputs": [
    {
     "name": "stdout",
     "output_type": "stream",
     "text": [
      "Глубина: 0 - 0.012009s\n",
      "Глубина: 1 - 0.048066s\n",
      "Глубина: 2 - 0.182998s\n",
      "Глубина: 3 - 0.968968s\n",
      "Глубина: 4 - 3.118473s\n"
     ]
    }
   ],
   "source": [
    "#Кривая серпинского\n",
    "#t = turtle.Turtle()\n",
    "#t.ht()          # скрываем черепашку\n",
    "\n",
    "pen_width = 2   # толщина линии рисования (в пикселах)\n",
    "f_len = 10      # длина одного сегмента прямой (в пикселах)\n",
    "angle = 90      # фиксированный угол поворота (в градусах)\n",
    "axiom = \"F+XF+F+XF\"   # для кривой Серпинского\n",
    "iterations = 5 # TOP: 8\n",
    "\n",
    "\n",
    "l_sys = LSystem2D(t, axiom, pen_width, f_len, angle)\n",
    "l_sys.add_rules((\"X\", \"XF-F+F-XF+F+XF-F+F-X\")) # для кривой Серпинского\n",
    "l_sys.dr((0, 0), 0, iterations)"
   ]
  },
  {
   "cell_type": "markdown",
   "metadata": {},
   "source": [
    "### Салфетка Серпинского"
   ]
  },
  {
   "cell_type": "code",
   "execution_count": 4,
   "metadata": {},
   "outputs": [
    {
     "name": "stdout",
     "output_type": "stream",
     "text": [
      "Глубина: 0 - 0.011021s\n",
      "Глубина: 1 - 0.022992s\n",
      "Глубина: 2 - 0.072998s\n",
      "Глубина: 3 - 0.178999s\n",
      "Глубина: 4 - 0.752848s\n",
      "Глубина: 5 - 2.420397s\n",
      "Глубина: 6 - 6.856056s\n",
      "Глубина: 7 - 10.083904s\n",
      "Глубина: 8 - 25.722996s\n",
      "Глубина: 9 - 62.406673s\n"
     ]
    }
   ],
   "source": [
    "#салфетка Серпинского (треугольник)\n",
    "#t = turtle.Turtle()\n",
    "turtle.ht()          # скрываем черепашку\n",
    "\n",
    "pen_width = 2   # толщина линии рисования (в пикселах)\n",
    "f_len = 5       # длина одного сегмента прямой (в пикселах)\n",
    "iterations = 10  # TOP: 8\n",
    "angle = 60\n",
    "\n",
    "axiom = \"FXF--FF--FF\"\n",
    "l_sys = LSystem2D(turtle, axiom, pen_width, f_len, angle)\n",
    "l_sys.add_rules((\"F\",\"FF\"), (\"X\",\"--FXF++FXF++FXF--\")) # для Серпинского треуг.\n",
    "l_sys.dr((0, 0), 0, iterations)"
   ]
  },
  {
   "cell_type": "markdown",
   "metadata": {},
   "source": [
    "### Ковёр Серпинского"
   ]
  },
  {
   "cell_type": "code",
   "execution_count": null,
   "metadata": {},
   "outputs": [
    {
     "name": "stdout",
     "output_type": "stream",
     "text": [
      "Глубина: 0 - 0.003008s\n",
      "Глубина: 1 - 0.002976s\n",
      "Глубина: 2 - 0.023962s\n",
      "Глубина: 3 - 0.236437s\n",
      "Глубина: 4 - 2.931027s\n",
      "Глубина: 5 - 78.266288s\n"
     ]
    }
   ],
   "source": [
    "# Ковёр Серпинского\n",
    "import turtle\n",
    "import datetime\n",
    "\n",
    "# --- functions ---\n",
    "turtle.reset()\n",
    "#turtle.tracer(1,0)\n",
    "turtle.speed('fastest')\n",
    "turtle.ht()\n",
    "def s(n, l):\n",
    "    if n == 0: # stop conditions\n",
    "\n",
    "        # draw filled rectangle\n",
    "\n",
    "        turtle.color('black')\n",
    "        turtle.begin_fill()\n",
    "        for _ in range (4):\n",
    "            turtle.forward(l)\n",
    "            turtle.left(90)\n",
    "        turtle.end_fill()\n",
    "\n",
    "    else: # recursion\n",
    "\n",
    "        # around center point create 8 smalles rectangles.\n",
    "        # create two rectangles on every side \n",
    "        # so you have to repeat it four times\n",
    "\n",
    "        for _ in range(4):\n",
    "            # first rectangle\n",
    "            s(n-1, l/3)    \n",
    "            turtle.forward(l/3)\n",
    "\n",
    "            # second rectangle\n",
    "            s(n-1, l/3)    \n",
    "            turtle.forward(l/3)\n",
    "\n",
    "            # go to next corner\n",
    "            turtle.forward(l/3)\n",
    "            turtle.left(90)\n",
    "\n",
    "        # update screen\n",
    "        turtle.update()\n",
    "\n",
    "# --- main ---    \n",
    "\n",
    "# stop updating screen (to make it faster)\n",
    "turtle.tracer(0) \n",
    "\n",
    "# start\n",
    "for i in range(7):\n",
    "    start = datetime.datetime.now()\n",
    "    turtle.reset()\n",
    "    s(i, 400)\n",
    "    finishT = (datetime.datetime.now() - start).total_seconds()\n",
    "    print(f'Глубина: {i} - {finishT}s')\n",
    "#s(2, 400)\n",
    "\n",
    "# event loop\n",
    "#turtle.done()"
   ]
  },
  {
   "cell_type": "markdown",
   "metadata": {},
   "source": [
    "### Дерево Пифагора"
   ]
  },
  {
   "cell_type": "code",
   "execution_count": 4,
   "metadata": {},
   "outputs": [
    {
     "name": "stdout",
     "output_type": "stream",
     "text": [
      "Глубина: 0 - 0.422484s\n",
      "Глубина: 1 - 0.560085s\n",
      "Глубина: 2 - 0.952398s\n",
      "Глубина: 3 - 1.616858s\n",
      "Глубина: 4 - 3.079865s\n",
      "Глубина: 5 - 6.953286s\n",
      "Глубина: 6 - 15.371101s\n"
     ]
    }
   ],
   "source": [
    "#from turtle import *\n",
    "import turtle\n",
    "from math import *\n",
    "import datetime\n",
    "\n",
    "\n",
    "def fractal(aturt, depth, maxdepth):\n",
    "    if depth > maxdepth:\n",
    "        return\n",
    "    length = 180 * ((sqrt(2) / 2) ** depth)\n",
    "    anotherturt = aturt.clone()\n",
    "    aturt.forward(length)\n",
    "    aturt.left(45)\n",
    "    fractal(aturt, depth + 1, maxdepth)\n",
    "    anotherturt.right(90)\n",
    "    anotherturt.forward(length)\n",
    "    anotherturt.left(90)\n",
    "    anotherturt.forward(length)\n",
    "    if depth != maxdepth:\n",
    "        turt3 = anotherturt.clone()\n",
    "        turt3.left(45)\n",
    "        turt3.forward(180 * ((sqrt(2) / 2) ** (1 + depth)))\n",
    "        turt3.right(90)\n",
    "        fractal(turt3, depth + 1, maxdepth)\n",
    "    anotherturt.left(90)\n",
    "    anotherturt.forward(length)\n",
    "\n",
    "\n",
    "def draw_fractal(iter):\n",
    "    #window = Screen()\n",
    "    t = turtle.Turtle()\n",
    "    t.speed('fastest')\n",
    "    t.hideturtle()\n",
    "    t.penup()\n",
    "    t.goto(-75, -225)\n",
    "    t.pendown()\n",
    "    t.speed('fastest')\n",
    "    t.left(90)\n",
    "    for i in range(iter):\n",
    "        start = datetime.datetime.now()\n",
    "        #Screen().reset()\n",
    "        t.reset()\n",
    "        #Screen().reset()\n",
    "        #t.Screen().reset()\n",
    "        t.hideturtle()\n",
    "        t.penup()\n",
    "        t.goto(-75, -225)\n",
    "        t.pendown()\n",
    "        t.speed('fastest')\n",
    "        t.left(90)\n",
    "        fractal(t, 1, i)\n",
    "        finishT = (datetime.datetime.now() - start).total_seconds()\n",
    "        print(f'Глубина: {i} - {finishT}s')\n",
    "#     t.reset()\n",
    "#     turtle.Screen().reset()\n",
    "#     turtle.fd(30)\n",
    "#     turtle.Screen().reset()\n",
    "#     #Screen().reset()\n",
    "#     #window.exitonclick()\n",
    "\n",
    "\n",
    "draw_fractal(7)"
   ]
  },
  {
   "cell_type": "code",
   "execution_count": null,
   "metadata": {},
   "outputs": [],
   "source": []
  },
  {
   "cell_type": "markdown",
   "metadata": {},
   "source": [
    "### Другое"
   ]
  },
  {
   "cell_type": "code",
   "execution_count": 1,
   "metadata": {},
   "outputs": [],
   "source": [
    "import turtle\n",
    "\n",
    "def create_l_system(iters, axiom, rules):\n",
    "    start_string = axiom\n",
    "    if iters == 0:\n",
    "        return axiom\n",
    "    end_string = \"\"\n",
    "    for _ in range(iters):\n",
    "        end_string = \"\".join(rules[i] if i in rules else i for i in start_string)\n",
    "        start_string = end_string\n",
    "\n",
    "    return end_string\n",
    "\n",
    "\n",
    "def draw_l_system(t, instructions, angle, distance):\n",
    "    for cmd in instructions:\n",
    "        if cmd == 'F':\n",
    "            t.forward(distance)\n",
    "        elif cmd == '+':\n",
    "            t.right(angle)\n",
    "        elif cmd == '-':\n",
    "            t.left(angle)\n",
    "\n",
    "\n",
    "def main(iterations, axiom, rules, angle, length=8, size=2, y_offset=0,\n",
    "        x_offset=0, offset_angle=0, width=450, height=450):\n",
    "\n",
    "    inst = create_l_system(iterations, axiom, rules)\n",
    "\n",
    "    t = turtle.Turtle()\n",
    "    wn = turtle.Screen()\n",
    "    wn.setup(width, height)\n",
    "\n",
    "    t.up()\n",
    "    t.backward(-x_offset)\n",
    "    t.left(90)\n",
    "    t.backward(-y_offset)\n",
    "    t.left(offset_angle)\n",
    "    t.down()\n",
    "    t.speed(0)\n",
    "    t.pensize(size)\n",
    "    draw_l_system(t, inst, angle, length)\n",
    "    t.hideturtle()\n",
    "\n",
    "    wn.exitonclick()"
   ]
  },
  {
   "cell_type": "code",
   "execution_count": 2,
   "metadata": {},
   "outputs": [],
   "source": [
    "# Кривая Гильберта\n",
    "axiom = \"L\"\n",
    "rules = {\"L\":\"+RF-LFL-FR+\", \"R\":\"-LF+RFR+FL-\"}\n",
    "iterations = 2 # TOP: 9\n",
    "angle = 90\n",
    "main(iterations, axiom, rules, angle)"
   ]
  },
  {
   "cell_type": "code",
   "execution_count": 2,
   "metadata": {},
   "outputs": [],
   "source": [
    "#Кривая серпинского\n",
    "axiom = \"F+XF+F+XF\"\n",
    "rules = {\"X\":\"XF-F+F-XF+F+XF-F+F-X\"}\n",
    "iterations = 1 # TOP: 8\n",
    "angle = 90\n",
    "main(iterations, axiom, rules, angle)"
   ]
  },
  {
   "cell_type": "code",
   "execution_count": 2,
   "metadata": {},
   "outputs": [],
   "source": [
    "#Ковёр Серпинского\n",
    "axiom = \"YF\"\n",
    "rules = {\"X\":\"YF+XF+Y\", \"Y\":\"XF-YF-X\"}\n",
    "iterations = 5 # TOP: 10\n",
    "angle = 60\n",
    "main(iterations, axiom, rules, angle)"
   ]
  },
  {
   "cell_type": "code",
   "execution_count": 2,
   "metadata": {},
   "outputs": [],
   "source": [
    "#решётка серпинского\n",
    "axiom = \"FXF--FF--FF\"\n",
    "rules = {\"F\":\"FF\", \"X\":\"--FXF++FXF++FXF--\"}\n",
    "iterations = 1 # TOP: 8\n",
    "angle = 60\n",
    "main(iterations, axiom, rules, angle)"
   ]
  },
  {
   "cell_type": "code",
   "execution_count": 2,
   "metadata": {},
   "outputs": [],
   "source": [
    "#Квадрат\n",
    "axiom = \"F+F+F+F\"\n",
    "rules = {\"F\":\"FF+F+F+F+FF\"}\n",
    "iterations = 2 # TOP: 5\n",
    "angle = 90\n",
    "main(iterations, axiom, rules, angle)"
   ]
  },
  {
   "cell_type": "markdown",
   "metadata": {
    "id": "diOb-K7LnO5a"
   },
   "source": [
    "### Вывод"
   ]
  }
 ],
 "metadata": {
  "colab": {
   "collapsed_sections": [],
   "name": "Lab5.ipynb",
   "provenance": []
  },
  "kernelspec": {
   "display_name": "Python 3 (ipykernel)",
   "language": "python",
   "name": "python3"
  },
  "language_info": {
   "codemirror_mode": {
    "name": "ipython",
    "version": 3
   },
   "file_extension": ".py",
   "mimetype": "text/x-python",
   "name": "python",
   "nbconvert_exporter": "python",
   "pygments_lexer": "ipython3",
   "version": "3.9.7"
  }
 },
 "nbformat": 4,
 "nbformat_minor": 1
}
