{
 "cells": [
  {
   "cell_type": "markdown",
   "id": "552d26c5",
   "metadata": {},
   "source": [
    "# Лабораторная работа №1"
   ]
  },
  {
   "cell_type": "markdown",
   "id": "c9427853",
   "metadata": {},
   "source": [
    "## Выполнил студент группы БВТ2003 Тураев Некруз"
   ]
  },
  {
   "cell_type": "markdown",
   "id": "55db76e7",
   "metadata": {},
   "source": [
    "### Задание №1"
   ]
  },
  {
   "cell_type": "code",
   "execution_count": 1,
   "id": "14ab516f",
   "metadata": {},
   "outputs": [
    {
     "name": "stdout",
     "output_type": "stream",
     "text": [
      "Hello, world\n"
     ]
    }
   ],
   "source": [
    "print(\"Hello, world\")"
   ]
  },
  {
   "cell_type": "markdown",
   "id": "ac6fad2a",
   "metadata": {},
   "source": [
    "### Задание №2"
   ]
  },
  {
   "cell_type": "code",
   "execution_count": 58,
   "id": "c3b3c9fa",
   "metadata": {},
   "outputs": [],
   "source": [
    "import random\n",
    "from datetime import datetime "
   ]
  },
  {
   "cell_type": "code",
   "execution_count": 59,
   "id": "e3ed8776",
   "metadata": {},
   "outputs": [],
   "source": [
    "m = 500\n",
    "n = 500\n",
    "min_limit = -250\n",
    "max_limit = 1000"
   ]
  },
  {
   "cell_type": "code",
   "execution_count": 60,
   "id": "b26f7e28",
   "metadata": {},
   "outputs": [
    {
     "name": "stdout",
     "output_type": "stream",
     "text": [
      "Time elapsed (hh:mm:ss.ms) 0:00:00.424421\n"
     ]
    }
   ],
   "source": [
    "start_time = datetime.now()\n",
    "matr = []\n",
    "for i in range(m):\n",
    "    mas = []\n",
    "    for j in range(n):\n",
    "        mas.append(random.randint(min_limit,max_limit))\n",
    "    matr.append(mas)\n",
    "print('Time elapsed (hh:mm:ss.ms) {}'.format(datetime.now() - start_time))\n",
    "matr1 = matr\n",
    "matr2 = matr\n",
    "matr3 = matr\n",
    "matr4 = matr\n",
    "matr5 = matr\n",
    "matr6 = matr\n",
    "matr7 = matr\n",
    "matr8 = matr"
   ]
  },
  {
   "cell_type": "markdown",
   "id": "f0e4da12",
   "metadata": {},
   "source": [
    "### Сортировка выборкой"
   ]
  },
  {
   "cell_type": "code",
   "execution_count": 61,
   "id": "abb87e33",
   "metadata": {},
   "outputs": [],
   "source": [
    "def selection(matr):\n",
    "     \n",
    "    f = len(matr)\n",
    "    for i in range(f):\n",
    "        k = len(matr[i])\n",
    "        #print(k)\n",
    "        while k > 1:\n",
    "            max = matr[i][0]\n",
    "            maxid = 0\n",
    "            for j in range(k):\n",
    "                #print(l,j)\n",
    "                if matr[i][j] > max:\n",
    "                    max = matr[i][j]\n",
    "                    maxid = j\n",
    "            \n",
    "            matr[i][maxid] = matr[i][k-1]\n",
    "            matr[i][k-1] = max\n",
    "            #print(i,maxid)\n",
    "            k-=1"
   ]
  },
  {
   "cell_type": "code",
   "execution_count": 62,
   "id": "e75efa54",
   "metadata": {},
   "outputs": [
    {
     "name": "stdout",
     "output_type": "stream",
     "text": [
      "Time elapsed (hh:mm:ss.ms) 0:00:05.326431\n"
     ]
    }
   ],
   "source": [
    "start_time = datetime.now()\n",
    "selection(matr1)\n",
    "timeSelection = datetime.now() - start_time\n",
    "print('Time elapsed (hh:mm:ss.ms) {}'.format(datetime.now() - start_time))"
   ]
  },
  {
   "cell_type": "markdown",
   "id": "2288eeeb",
   "metadata": {},
   "source": [
    "### Сортировка вставкой"
   ]
  },
  {
   "cell_type": "code",
   "execution_count": 63,
   "id": "f697cccb",
   "metadata": {},
   "outputs": [
    {
     "name": "stdout",
     "output_type": "stream",
     "text": [
      "Time elapsed (hh:mm:ss.ms) 0:00:00\n"
     ]
    }
   ],
   "source": [
    "start_time = datetime.now()\n",
    "def insertion(matr): \n",
    "    length = len(matr[0])\n",
    "    k = len(matr)\n",
    "    for l in range(k):\n",
    "        for i in range(1, length):\n",
    "            key = matr[l][i]\n",
    "            j = i\n",
    "            while (j - 1 >= 0) and (matr[l][j - 1] > key):\n",
    "                matr[l][j - 1], matr[l][j] = matr[l][j], matr[l][j - 1]\n",
    "                j = j - 1\n",
    "            matr[l][j] = key\n",
    "print('Time elapsed (hh:mm:ss.ms) {}'.format(datetime.now() - start_time))"
   ]
  },
  {
   "cell_type": "code",
   "execution_count": 64,
   "id": "7c2981fd",
   "metadata": {},
   "outputs": [
    {
     "name": "stdout",
     "output_type": "stream",
     "text": [
      "Time elapsed (hh:mm:ss.ms) 0:00:00.068497\n"
     ]
    }
   ],
   "source": [
    "start_time = datetime.now()\n",
    "insertion(matr2)\n",
    "timeInsertion = datetime.now() - start_time\n",
    "print('Time elapsed (hh:mm:ss.ms) {}'.format(datetime.now() - start_time))"
   ]
  },
  {
   "cell_type": "markdown",
   "id": "da8f04b1",
   "metadata": {},
   "source": [
    "### Сортировка обменом"
   ]
  },
  {
   "cell_type": "code",
   "execution_count": 65,
   "id": "48d4a8a3",
   "metadata": {},
   "outputs": [],
   "source": [
    "def swap(matr):\n",
    "    \n",
    "    for i in range(len(matr)):\n",
    "        max = matr[i][0]\n",
    "        flag = True\n",
    "        while flag:\n",
    "            flag = False\n",
    "            for j in range(len(matr[i])-1):\n",
    "                if matr[i][j] > matr[i][j+1]:\n",
    "                    matr[i][j], matr[i][j+1] = matr[i][j+1], matr[i][j]\n",
    "                    flag = True"
   ]
  },
  {
   "cell_type": "code",
   "execution_count": 66,
   "id": "d946d38f",
   "metadata": {
    "scrolled": true
   },
   "outputs": [
    {
     "name": "stdout",
     "output_type": "stream",
     "text": [
      "Time elapsed (hh:mm:ss.ms) 0:00:00.039970\n"
     ]
    }
   ],
   "source": [
    "start_time = datetime.now()\n",
    "swap(matr3)\n",
    "timeSwap = datetime.now() - start_time\n",
    "print('Time elapsed (hh:mm:ss.ms) {}'.format(datetime.now() - start_time))"
   ]
  },
  {
   "cell_type": "markdown",
   "id": "ab028e81",
   "metadata": {},
   "source": [
    "### Сортировка Шелл"
   ]
  },
  {
   "cell_type": "code",
   "execution_count": 67,
   "id": "7247dafd",
   "metadata": {},
   "outputs": [],
   "source": [
    "def shella(matr):\n",
    "    k = 2\n",
    "    for i in range(len(matr)):\n",
    "        if len(matr[i]) // 2 % 2 == 0:\n",
    "            s = len(matr[i]) // k\n",
    "        else: s = len(matr[i]) // k + 1\n",
    "        \n",
    "        while s > 0:\n",
    "            j = 0\n",
    "            while j + s < len(matr[i]):\n",
    "                \n",
    "                if matr[i][j] > matr[i][j + s]:\n",
    "                    matr[i][j], matr[i][j + s] = matr[i][j + s], matr[i][j]\n",
    "                j += 1\n",
    "            s //= 2\n",
    "            "
   ]
  },
  {
   "cell_type": "code",
   "execution_count": 68,
   "id": "2e99dd01",
   "metadata": {},
   "outputs": [
    {
     "name": "stdout",
     "output_type": "stream",
     "text": [
      "Time elapsed (hh:mm:ss.ms) 0:00:00.551488\n"
     ]
    }
   ],
   "source": [
    "start_time = datetime.now()\n",
    "shella(matr4)\n",
    "timeShella = datetime.now() - start_time\n",
    "print('Time elapsed (hh:mm:ss.ms) {}'.format(datetime.now() - start_time))"
   ]
  },
  {
   "cell_type": "code",
   "execution_count": 17,
   "id": "cc2e2504",
   "metadata": {},
   "outputs": [
    {
     "name": "stdout",
     "output_type": "stream",
     "text": [
      "Wall time: 0 ns\n"
     ]
    }
   ],
   "source": [
    "%%time\n",
    "def shell_sort(matr):\n",
    "    #print(len(matr))\n",
    "    for i in range(len(matr)):\n",
    "        gap = len(matr[i]) // 2\n",
    "        #print(gap)\n",
    "        while gap > 0:\n",
    "            for value in range(gap, len(matr[i])):\n",
    "                current_value = matr[i][value]\n",
    "                position = value\n",
    "\n",
    "                while position >= gap and matr[i][position - gap] > current_value:\n",
    "                    matr[i][position] = matr[i][position - gap]\n",
    "                    position -= gap\n",
    "                    matr[i][position] = current_value\n",
    "\n",
    "            gap //= 2\n",
    "        #print(gap)"
   ]
  },
  {
   "cell_type": "code",
   "execution_count": 18,
   "id": "ff0d8dcb",
   "metadata": {},
   "outputs": [
    {
     "name": "stdout",
     "output_type": "stream",
     "text": [
      "Time elapsed (hh:mm:ss.ms) 0:00:00.284279\n"
     ]
    }
   ],
   "source": [
    "start_time = datetime.now()\n",
    "shell_sort(matr1)\n",
    "print('Time elapsed (hh:mm:ss.ms) {}'.format(datetime.now() - start_time))"
   ]
  },
  {
   "cell_type": "markdown",
   "id": "02700cf2",
   "metadata": {},
   "source": [
    "### Сортировка турнирная"
   ]
  },
  {
   "cell_type": "code",
   "execution_count": 69,
   "id": "fbd9f4dd",
   "metadata": {},
   "outputs": [],
   "source": [
    "from heapq import heappop, heappush  \n",
    "   \n",
    "def tournament(matr):\n",
    "    for i in range(len(matr)):\n",
    "        heap = []  \n",
    "        for ele in matr[i]:  \n",
    "            heappush(heap, ele)  \n",
    "   \n",
    "        sort = []  \n",
    "   \n",
    "     # the elements are lift in the heap  \n",
    "        while heap:  \n",
    "            sort.append(heappop(heap))  \n",
    "   \n",
    "        matr[i] = sort\n",
    "            "
   ]
  },
  {
   "cell_type": "code",
   "execution_count": 70,
   "id": "fe38afb8",
   "metadata": {},
   "outputs": [
    {
     "name": "stdout",
     "output_type": "stream",
     "text": [
      "Time elapsed (hh:mm:ss.ms) 0:00:00.101029\n"
     ]
    }
   ],
   "source": [
    "start_time = datetime.now()\n",
    "tournament(matr5)\n",
    "timeTournament = datetime.now() - start_time\n",
    "print('Time elapsed (hh:mm:ss.ms) {}'.format(datetime.now() - start_time))"
   ]
  },
  {
   "cell_type": "markdown",
   "id": "c9496594",
   "metadata": {},
   "source": [
    "### Сортировка быстрая"
   ]
  },
  {
   "cell_type": "code",
   "execution_count": 71,
   "id": "0eb28c37",
   "metadata": {},
   "outputs": [],
   "source": [
    "def quick(mas):\n",
    "    if len(mas) <= 1: return mas\n",
    "    else:\n",
    "        element = random.choice(mas)\n",
    "    left = list(filter(lambda x: x < element, mas))\n",
    "    center = [x for x in mas if x == element]\n",
    "    right = list(filter(lambda x: x > element, mas))\n",
    "    \n",
    "    return quick(left) + center + quick(right)\n",
    "def quick_sort(matr):\n",
    "    for i in range(len(matr)):\n",
    "        matr[i] = quick(matr[i])"
   ]
  },
  {
   "cell_type": "code",
   "execution_count": 72,
   "id": "9049f586",
   "metadata": {},
   "outputs": [],
   "source": [
    "start_time = datetime.now()\n",
    "quick_sort(matr6)\n",
    "timequiq = datetime.now() - start_time"
   ]
  },
  {
   "cell_type": "markdown",
   "id": "56d2389d",
   "metadata": {},
   "source": [
    "### Сортировка пиромидальная"
   ]
  },
  {
   "cell_type": "code",
   "execution_count": 73,
   "id": "abbc3739",
   "metadata": {},
   "outputs": [],
   "source": [
    "def heapify(arr, n, i):\n",
    "    largest = i # Initialize largest as root\n",
    "    l = 2 * i + 1   # left = 2*i + 1\n",
    "    r = 2 * i + 2   # right = 2*i + 2\n",
    "\n",
    "    if l < n and arr[i] < arr[l]:\n",
    "        largest = l\n",
    "\n",
    "    if r < n and arr[largest] < arr[r]:\n",
    "        largest = r\n",
    "        \n",
    "    if largest != i:\n",
    "        arr[i],arr[largest] = arr[largest],arr[i] # свап\n",
    "\n",
    "        heapify(arr, n, largest)\n",
    "\n",
    "def heapSort(arr):\n",
    "    n = len(arr)\n",
    "\n",
    "    for i in range(n, -1, -1):\n",
    "        heapify(arr, n, i)\n",
    "    for i in range(n-1, 0, -1):\n",
    "        arr[i], arr[0] = arr[0], arr[i] # свап \n",
    "        heapify(arr, i, 0)\n",
    "\n",
    "def heap_sort(matr):\n",
    "    for i in range(len(matr)):\n",
    "        heapSort(matr[i])\n"
   ]
  },
  {
   "cell_type": "code",
   "execution_count": 74,
   "id": "600cce72",
   "metadata": {},
   "outputs": [],
   "source": [
    "start_time = datetime.now()\n",
    "heap_sort(matr7)\n",
    "timeHeap = datetime.now() - start_time"
   ]
  },
  {
   "cell_type": "markdown",
   "id": "aec05d15",
   "metadata": {},
   "source": [
    "### Сортировка стандартная "
   ]
  },
  {
   "cell_type": "code",
   "execution_count": 75,
   "id": "68054fe3",
   "metadata": {},
   "outputs": [],
   "source": [
    "matr1 = matr\n",
    "start_time = datetime.now()\n",
    "def standart(matr):\n",
    "    for i in range(len(matr)):\n",
    "        matr[i].sort()\n",
    "timeStandart = datetime.now() - start_time"
   ]
  },
  {
   "cell_type": "markdown",
   "id": "61332f8a",
   "metadata": {},
   "source": [
    "### Результаты"
   ]
  },
  {
   "cell_type": "code",
   "execution_count": 77,
   "id": "8b448687",
   "metadata": {},
   "outputs": [],
   "source": [
    "mas = {\"Пиромидальная\":timeHeap, \"Быстрая\":timequiq,\n",
    "       \"Турнирная\":timeTournament,\n",
    "       \"Шелла\":timeShella,\n",
    "       \"Обменом\":timeSwap,\n",
    "       \"Вставкой\":timeInsertion,\n",
    "       \"Выборкой\":timeSelection}\n",
    "minSort = min(timeSelection,timeInsertion,timeSwap,timeShella,timeTournament,timequiq,timeHeap)\n",
    "minS = \"\"\n",
    "#print(minSort)\n",
    "for i in mas:\n",
    "    if (min(timeSelection,timeInsertion,timeSwap,timeShella,timeTournament,timequiq,timeHeap) == mas[i]): \n",
    "        minS = i\n",
    "        #print(minS)"
   ]
  },
  {
   "cell_type": "code",
   "execution_count": 78,
   "id": "39792e1b",
   "metadata": {
    "scrolled": true
   },
   "outputs": [
    {
     "name": "stdout",
     "output_type": "stream",
     "text": [
      "1) Выборкой:  0:00:05.326431\n",
      "2) Вставкой:  0:00:00.068497\n",
      "3) Обменом:  0:00:00.039970\n",
      "4) Шелла:  0:00:00.551488\n",
      "5) Турнирная: 0:00:00.101029\n",
      "6) Быстрая:  0:00:00.933471\n",
      "7) Пиромидальная:  0:00:01.374796\n",
      "8) Стандартная:  0:00:00\n",
      "Самая быстрая: Стандартная:  0:00:00\n",
      "Самая быстрая среди алгоритмов: Обменом:  0:00:00.039970\n"
     ]
    }
   ],
   "source": [
    "print(\"1) Выборкой: \", timeSelection)\n",
    "print(\"2) Вставкой: \", timeInsertion)\n",
    "print(\"3) Обменом: \", timeSwap)\n",
    "print(\"4) Шелла: \", timeShella)\n",
    "print(\"5) Турнирная:\", timeTournament)\n",
    "print(\"6) Быстрая: \", timequiq)\n",
    "print(\"7) Пиромидальная: \", timeHeap)\n",
    "print(\"8) Стандартная: \", timeStandart)\n",
    "print(\"Самая быстрая: Стандартная: \",min(timeSelection,\n",
    "                                         timeInsertion,\n",
    "                                         timeSwap,\n",
    "                                         timeShella,\n",
    "                                         timeTournament,\n",
    "                                         timequiq,\n",
    "                                         timeHeap,\n",
    "                                         timeStandart))\n",
    "print(f\"Самая быстрая среди алгоритмов: {minS}: \",minSort)"
   ]
  },
  {
   "cell_type": "code",
   "execution_count": null,
   "id": "33989e82",
   "metadata": {},
   "outputs": [],
   "source": []
  }
 ],
 "metadata": {
  "kernelspec": {
   "display_name": "Python 3 (ipykernel)",
   "language": "python",
   "name": "python3"
  },
  "language_info": {
   "codemirror_mode": {
    "name": "ipython",
    "version": 3
   },
   "file_extension": ".py",
   "mimetype": "text/x-python",
   "name": "python",
   "nbconvert_exporter": "python",
   "pygments_lexer": "ipython3",
   "version": "3.9.7"
  }
 },
 "nbformat": 4,
 "nbformat_minor": 5
}
