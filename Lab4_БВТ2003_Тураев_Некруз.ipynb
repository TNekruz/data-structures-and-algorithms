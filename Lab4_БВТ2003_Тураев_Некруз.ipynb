{
 "cells": [
  {
   "cell_type": "markdown",
   "id": "fifteen-sailing",
   "metadata": {},
   "source": [
    "# Лабораторная работа №4\n",
    "## Выполнил студент группы БВТ2003 Тураев Некруз"
   ]
  },
  {
   "cell_type": "markdown",
   "id": "arctic-stocks",
   "metadata": {},
   "source": [
    "Реализовать следующие структуры данных:\n",
    "  \n",
    "● <b> Стек (stack): </b>  \n",
    "Операции для стека: \n",
    "<i> инициализация, проверка на пустоту, добавление нового элемента в начало, извлечение элемента из начала;  </i>  \n",
    "  \n",
    "● <b> Дек (двусторонняя очередь, deque):  </b>  \n",
    "Операции для дека: \n",
    "<i> инициализация, проверка на пустоту, добавление нового элемента в начало, добавление нового элемента в конец, извлечение элемента из начала, извлечение элемента из конца. </i>  \n",
    "  \n",
    "<i> Разработать программу обработки данных, содержащихся в заранее подготовленном txt-файле, в соответствии с заданиями, применив указанную в задании структуру данных. Результат работы программы вывести на экран и сохранить в отдельном txt-файле. </i>"
   ]
  },
  {
   "cell_type": "markdown",
   "id": "5f08dd07",
   "metadata": {},
   "source": [
    "### Стек(stack)"
   ]
  },
  {
   "cell_type": "code",
   "execution_count": 3,
   "id": "1e597625",
   "metadata": {},
   "outputs": [
    {
     "name": "stdout",
     "output_type": "stream",
     "text": [
      "False\n",
      "Удаленный элемент: 6\n",
      "Стек после добавления и удаления элемента: ['lol', '4', '5']\n"
     ]
    }
   ],
   "source": [
    "# Создаем стек\n",
    "def create_stack():\n",
    "    stack = []\n",
    "    return stack\n",
    "\n",
    "# Создаем пустой стек\n",
    "def check_empty(stack):\n",
    "    return len(stack) == 0\n",
    "\n",
    "# Добавляем элементы в стек\n",
    "def push(stack, item):\n",
    "    stack.append(item)\n",
    "    #print(\"Добавлен элемент: \" + item)\n",
    "\n",
    "# Удаляем элементы из стека\n",
    "def pop(stack):\n",
    "    if (check_empty(stack)):\n",
    "        return \"Стек пуст\"\n",
    "\n",
    "    return stack.pop()\n",
    "\n",
    "stack = create_stack() # создаём стек\n",
    "push(stack, 'lol') \n",
    "print(check_empty(stack)) # проверка на пустоту\n",
    "push(stack, '4')\n",
    "push(stack, '5')\n",
    "push(stack, '6')\n",
    "print(\"Удаленный элемент: \" + pop(stack))\n",
    "print(\"Стек после добавления и удаления элемента: \" + str(stack))"
   ]
  },
  {
   "cell_type": "markdown",
   "id": "45dba3ac",
   "metadata": {},
   "source": [
    "### Дек (двусторонняя очередь)"
   ]
  },
  {
   "cell_type": "code",
   "execution_count": 4,
   "id": "131e0af0",
   "metadata": {},
   "outputs": [
    {
     "name": "stdout",
     "output_type": "stream",
     "text": [
      "True\n",
      "4\n",
      "False\n",
      "[10, 7, 8, 5, 11]\n",
      "11\n",
      "[10, 7, 8, 5]\n",
      "10\n",
      "[55, 7, 8, 5, 45]\n"
     ]
    }
   ],
   "source": [
    "class Deque:\n",
    "    def __init__(self):\n",
    "        self.items = []\n",
    "\n",
    "    def check_Empty(self):\n",
    "        return len(self.items) == 0\n",
    "    \n",
    "    def isEmpty(self):\n",
    "        return self.items == []\n",
    "\n",
    "    def addRear(self, item):\n",
    "        self.items.append(item)\n",
    "\n",
    "    def addFront(self, item):\n",
    "        self.items.insert(0, item)\n",
    "\n",
    "    def removeFront(self):\n",
    "        return self.items.pop(0)\n",
    "\n",
    "    def removeRear(self):\n",
    "        return self.items.pop()\n",
    "\n",
    "    def size(self):\n",
    "        return len(self.items)\n",
    "\n",
    "\n",
    "d = Deque() # создаём дек\n",
    "print(d.isEmpty()) # проверка на пустоту\n",
    "d.addRear(8) # добавка элемента\n",
    "d.addRear(5)\n",
    "d.addFront(7) # добавка в начало \n",
    "d.addFront(10)\n",
    "print(d.size()) # размер дека\n",
    "print(d.isEmpty())\n",
    "d.addRear(11)\n",
    "print(d.items)\n",
    "print(d.removeRear()) # удаление с начала \n",
    "print(d.items)\n",
    "print(d.removeFront()) # удаление с конца \n",
    "d.addFront(55) \n",
    "d.addRear(45)\n",
    "print(d.items)"
   ]
  },
  {
   "cell_type": "markdown",
   "id": "5d7edb08",
   "metadata": {
    "scrolled": true
   },
   "source": [
    "### Задание №1\n",
    "Отсортировать строки файла, содержащие названия книг, в алфавитном порядке с использованием двух деков."
   ]
  },
  {
   "cell_type": "code",
   "execution_count": 4,
   "id": "17702ade",
   "metadata": {},
   "outputs": [
    {
     "name": "stdout",
     "output_type": "stream",
     "text": [
      "['Овод', '1984', 'Война и мир', '451* по Фаренгейту', 'Отцы и дети', 'Мастер и Маргарита']\n",
      "['1984', '451* по Фаренгейту', 'Война и мир', 'Мастер и Маргарита', 'Овод', 'Отцы и дети']\n"
     ]
    }
   ],
   "source": [
    "d = Deque()\n",
    "\n",
    "d.addRear('Овод')\n",
    "d.addRear('1984')\n",
    "d.addRear('Война и мир')\n",
    "d.addRear('451* по Фаренгейту')\n",
    "d.addRear('Отцы и дети')\n",
    "d.addRear('Мастер и Маргарита')\n",
    "print(d.items)\n",
    "s = Deque()\n",
    "for j in range(len(d.items)):\n",
    "    g = 0\n",
    "    for i in d.items:\n",
    "    #print(s.isEmpty())\n",
    "        if s.isEmpty():\n",
    "            s.addRear(i)\n",
    "        # print(s.items)\n",
    "            #j = ord(i[0])\n",
    "        else:\n",
    "        # print(i[0])\n",
    "        # print(ord(s.items[j-1][0]))\n",
    "            if ord(i[0]) < ord(s.items[g][0]):\n",
    "                s.addFront(i)\n",
    "                g+=1\n",
    "            else:\n",
    "                s.addRear(i)\n",
    "                g+=1\n",
    "        # print(s.items)\n",
    "    d.items = s.items\n",
    "    s.items = []\n",
    "\n",
    "print(d.items)"
   ]
  },
  {
   "cell_type": "markdown",
   "id": "49fbd2a0",
   "metadata": {},
   "source": [
    "### Задание №2\n",
    "Дек содержит последовательность символов для шифровки сообщений. Дан текстовый файл, содержащий зашифрованное сообщение. Пользуясь деком, расшифровать текст. \n",
    "Известно, что при шифровке каждый символ сообщения заменялся следующим за ним в деке по часовой стрелке через один."
   ]
  },
  {
   "cell_type": "code",
   "execution_count": 11,
   "id": "81cab7a8",
   "metadata": {},
   "outputs": [
    {
     "name": "stdout",
     "output_type": "stream",
     "text": [
      "л\n",
      "а\n",
      "ж\n",
      "а\n",
      "лажа\n"
     ]
    }
   ],
   "source": [
    "sh = Deque()\n",
    "sh.items = ['а','б','в','г',\"д\",\"е\",\"ё\",\"ж\",\"з\",\"и\",\"й\",\"к\",\"л\"]\n",
    "# g = 0\n",
    "txtSh = 'бвив'\n",
    "res = ''\n",
    "for i in txtSh:\n",
    "    while i != sh.items[0]:\n",
    "        sh.addRear(sh.removeFront())\n",
    "    if i == sh.items[0]:\n",
    "        sh.addFront(sh.removeRear()) # скручиваем два раза кольцо\n",
    "        sh.addFront(sh.removeRear())\n",
    "        res += sh.items[0]\n",
    "        print(sh.items[0])\n",
    "print(res)"
   ]
  },
  {
   "cell_type": "markdown",
   "id": "c0894f47",
   "metadata": {},
   "source": [
    "### Задание №3\n",
    "Даны три стержня и n дисков различного размера. Диски можно надевать на стержни, образуя из них башни. Перенести n дисков со стержня А на стержень С, сохранив их первоначальный порядок. При переносе дисков необходимо соблюдать следующие правила:\n",
    "- на каждом шаге со стержня на стержень переносить только один диск;\n",
    "- диск нельзя помещать на диск меньшего размера;\n",
    "- для промежуточного хранения можно использовать стержень В.\n",
    "Реализовать алгоритм, используя три стека вместо стержней А, В, С. Информация о дисках хранится в исходном файле."
   ]
  },
  {
   "cell_type": "code",
   "execution_count": 5,
   "id": "9e91a9d4",
   "metadata": {},
   "outputs": [
    {
     "name": "stdout",
     "output_type": "stream",
     "text": [
      "[1, 2]\n",
      "A -> B\n",
      "A -> C\n",
      "B -> C\n"
     ]
    }
   ],
   "source": [
    "As = create_stack()\n",
    "Bs = create_stack()\n",
    "Cs = create_stack()\n",
    "def hanoi1(n):\n",
    "    for i in range(1,n+1):\n",
    "        push(As,i)\n",
    "    print(As)\n",
    "    \n",
    "    han1(n,As,Bs,Cs)\n",
    "    print(As,Bs,Cs)\n",
    "def han1(n, a, b, c):\n",
    "    if n == 0:\n",
    "        return\n",
    "    han1(n-1,a,c,b)\n",
    "    push(c,pop(a))\n",
    "    print(a,b,c)\n",
    "    han1(n-1,b,a,c)\n",
    "\n",
    "\n",
    "\n",
    "\n",
    "\n",
    "def hanoi(n):\n",
    "    for i in range(1,n+1):\n",
    "        push(As,i)\n",
    "    print(As)\n",
    "    \n",
    "    han(n,'A','B','C')\n",
    "def han(n, a, b, c):\n",
    "    if n == 0:\n",
    "        return\n",
    "    han(n-1,a,c,b)\n",
    "    print(a, '->',c)\n",
    "    han(n-1,b,a,c)\n",
    "\n",
    "hanoi(2)"
   ]
  },
  {
   "cell_type": "markdown",
   "id": "e5b0be17",
   "metadata": {},
   "source": [
    "### Задание №4\n",
    "Дан текстовый файл с программой на алгоритмическом языке. За один просмотр файла проверить баланс круглых скобок в тексте, используя стек."
   ]
  },
  {
   "cell_type": "code",
   "execution_count": 40,
   "id": "5b1df60a",
   "metadata": {},
   "outputs": [
    {
     "name": "stdout",
     "output_type": "stream",
     "text": [
      "Добавлен элемент: (\n",
      "Добавлен элемент: (\n",
      "False\n",
      "Добавлен элемент: (\n",
      "Добавлен элемент: (\n",
      "True\n"
     ]
    }
   ],
   "source": [
    "def st(a):\n",
    "    s = create_stack()\n",
    "    for i in a:\n",
    "        if i == '(':\n",
    "            push(s,i)\n",
    "        elif i == ')':\n",
    "            if check_empty(s):\n",
    "                return False\n",
    "            else:\n",
    "                pop(s)\n",
    "    return True\n",
    "print(st('(()))'))\n",
    "print(st('(())'))"
   ]
  },
  {
   "cell_type": "markdown",
   "id": "c44cdd6b",
   "metadata": {},
   "source": [
    "### Задание №5\n",
    "Дан текстовый файл с программой на алгоритмическом языке. За один просмотр файла проверить баланс квадратных скобок в тексте, используя дек."
   ]
  },
  {
   "cell_type": "code",
   "execution_count": 58,
   "id": "36b8f400",
   "metadata": {},
   "outputs": [
    {
     "name": "stdout",
     "output_type": "stream",
     "text": [
      "True\n",
      "False\n"
     ]
    }
   ],
   "source": [
    "def sq_st(a):\n",
    "    s = Deque()\n",
    "    for i in a:\n",
    "        if i == '[':\n",
    "            s.addRear(i)\n",
    "        elif i == ']':\n",
    "            if s.items == []:\n",
    "                return False\n",
    "            else:\n",
    "                s.removeRear()\n",
    "    return True\n",
    "\n",
    "print(sq_st('[[]]'))\n",
    "print(sq_st('[[]]]'))"
   ]
  },
  {
   "cell_type": "markdown",
   "id": "59d13dc7",
   "metadata": {},
   "source": [
    "### Задание №6\n",
    "Дан файл из символов. Используя стек, за один просмотр файла напечатать сначала все цифры, затем все буквы, и, наконец, все остальные символы, сохраняя исходный порядок в каждой группе символов."
   ]
  },
  {
   "cell_type": "code",
   "execution_count": 63,
   "id": "297e36c2",
   "metadata": {},
   "outputs": [
    {
     "name": "stdout",
     "output_type": "stream",
     "text": [
      "['4', '3', '4', '3', '4']\n",
      "['a', 'a', 'a', 's', 'a', 's', 'd', 'f', 'e', 'w']\n",
      "[',', ' ', ',', '$', ';']\n"
     ]
    }
   ],
   "source": [
    "a = 'aaas434asdf34, ew,$;'\n",
    "numbers = create_stack()\n",
    "letters = create_stack()\n",
    "others = create_stack()\n",
    "for i in a:\n",
    "    if i.isdigit():\n",
    "        push(numbers,i)\n",
    "        continue\n",
    "    if i.isalpha():\n",
    "        push(letters,i)\n",
    "    else:\n",
    "        push(others,i)\n",
    "print(numbers)\n",
    "print(letters)\n",
    "print(others)"
   ]
  },
  {
   "cell_type": "markdown",
   "id": "973f68bd",
   "metadata": {},
   "source": [
    "### Задание №7\n",
    "Дан файл из целых чисел. Используя дек, за один просмотр файла напечатать сначала все отрицательные числа, затем все положительные числа, сохраняя исходный порядок в каждой группе."
   ]
  },
  {
   "cell_type": "code",
   "execution_count": 74,
   "id": "c56fad66",
   "metadata": {},
   "outputs": [
    {
     "name": "stdout",
     "output_type": "stream",
     "text": [
      "['-138', '-34', '-12', '134', '3431', '343', '358']\n"
     ]
    }
   ],
   "source": [
    "a = '134 -12 3431 -34 343 358 -138'\n",
    "d = Deque()\n",
    "temp = a.split(' ')\n",
    "for i in temp:\n",
    "    if int(i) < 0:\n",
    "        d.addFront(i)\n",
    "    else:\n",
    "        d.addRear(i)\n",
    "print(d.items)"
   ]
  },
  {
   "cell_type": "markdown",
   "id": "b9228191",
   "metadata": {},
   "source": [
    "### Задание №8\n",
    "Дан текстовый файл. Используя стек, сформировать новый текстовый файл, содержащий строки исходного файла, записанные в обратном порядке: первая строка становится последней, вторая – предпоследней и т.д."
   ]
  },
  {
   "cell_type": "code",
   "execution_count": 103,
   "id": "981fbdfe",
   "metadata": {},
   "outputs": [
    {
     "name": "stdout",
     "output_type": "stream",
     "text": [
      "До:\n",
      "Октябрь уж наступил — уж роща отряхает\n",
      "Последние листы с нагих своих ветвей;\n",
      "Дохнул осенний хлад — дорога промерзает.\n",
      "Журча еще бежит за мельницу ручей,\n",
      "Но пруд уже застыл; сосед мой поспешает\n",
      "В отъезжие поля с охотою своей,\n",
      "И страждут озими от бешеной забавы,\n",
      "И будит лай собак уснувшие дубравы.\n",
      "\n",
      "После:\n",
      "И будит лай собак уснувшие дубравы.\n",
      "И страждут озими от бешеной забавы,\n",
      "В отъезжие поля с охотою своей,\n",
      "Но пруд уже застыл; сосед мой поспешает\n",
      "Журча еще бежит за мельницу ручей,\n",
      "Дохнул осенний хлад — дорога промерзает.\n",
      "Последние листы с нагих своих ветвей;\n",
      "Октябрь уж наступил — уж роща отряхает\n"
     ]
    }
   ],
   "source": [
    "try:\n",
    "    with open(\"Стих.txt\", \"r\", encoding = \"utf-8\") as file:\n",
    "        print('До:')\n",
    "        st = create_stack()\n",
    "        for line in file:\n",
    "            print(line,end='')\n",
    "            push(st,line)\n",
    "        if not check_empty(st):\n",
    "            temp = st.pop()\n",
    "            temp += \"\\n\"\n",
    "            push(st,temp)\n",
    "            \n",
    "except FileNotFoundError:\n",
    "    print(\"Файл не найден\")\n",
    "try:\n",
    "    with open(\"Стих1.txt\", \"w\", encoding = \"utf-8\") as file:\n",
    "        # print()\n",
    "        while not check_empty(st):\n",
    "            file.write(pop(st))\n",
    "except:\n",
    "    print(\"Error\")\n",
    "\n",
    "with open(\"Стих1.txt\", \"r\", encoding = \"utf-8\") as file:\n",
    "    print()\n",
    "    print()\n",
    "    print('После:')\n",
    "    for i in file:\n",
    "        print(i,end='')"
   ]
  },
  {
   "cell_type": "markdown",
   "id": "rental-jerusalem",
   "metadata": {},
   "source": [
    "### Вывод\n"
   ]
  },
  {
   "cell_type": "markdown",
   "id": "0c2b8899",
   "metadata": {},
   "source": []
  }
 ],
 "metadata": {
  "kernelspec": {
   "display_name": "Python 3 (ipykernel)",
   "language": "python",
   "name": "python3"
  },
  "language_info": {
   "codemirror_mode": {
    "name": "ipython",
    "version": 3
   },
   "file_extension": ".py",
   "mimetype": "text/x-python",
   "name": "python",
   "nbconvert_exporter": "python",
   "pygments_lexer": "ipython3",
   "version": "3.9.7"
  }
 },
 "nbformat": 4,
 "nbformat_minor": 5
}
